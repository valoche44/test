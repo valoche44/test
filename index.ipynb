# Ceci est un notebook Jupyter vide
# Vous pouvez ajouter du code et des cellules en dessous de ce commentaire

print("Bonjour ! Ceci est un exemple de code en Python.")
